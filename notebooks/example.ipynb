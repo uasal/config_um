{
 "cells": [
  {
   "cell_type": "markdown",
   "metadata": {},
   "source": [
    "# Example for usage of tools and configurations\n",
    "This notebook is an example of how simulation tools, configurations, and reporting can be done harmoniously if a common structure is established. <br>\n",
    "Note that this structure is commonly seen among large software teams that are constantly co-developing and producing/maintaining production code. <br>\n",
    "\n",
    "**This notebook represents a report that could be the artifact of an analysis informing science impact of a given parameter.**"
   ]
  },
  {
   "cell_type": "markdown",
   "metadata": {
    "vscode": {
     "languageId": "plaintext"
    }
   },
   "source": [
    "## Load dependencies"
   ]
  },
  {
   "cell_type": "code",
   "execution_count": 12,
   "metadata": {},
   "outputs": [],
   "source": [
    "# load dependencies for this report\n",
    "import pathlib\n",
    "import tomlkit\n",
    "import git\n",
    "import matplotlib.pyplot as plt\n",
    "\n",
    "from utils_config import ConfigLoader  # Used to load and parse configs"
   ]
  },
  {
   "cell_type": "markdown",
   "metadata": {},
   "source": [
    "## Import simulation Tool(s)"
   ]
  },
  {
   "cell_type": "code",
   "execution_count": 13,
   "metadata": {},
   "outputs": [],
   "source": [
    "import example_tool"
   ]
  },
  {
   "cell_type": "markdown",
   "metadata": {},
   "source": [
    "Display the git hash being executed so there is traceability for reproducing the result in the future. <br>\n",
    "If it was a proper package, then one would just run the following: <br>\n",
    "`print example_tool.__version__` <br>\n",
    "Because this is an example a local file is used, so in this case we'll show the current git hash.\n"
   ]
  },
  {
   "cell_type": "code",
   "execution_count": 14,
   "metadata": {},
   "outputs": [
    {
     "name": "stdout",
     "output_type": "stream",
     "text": [
      "Repo located at: /Users/pingraham/repos/uasal/config_project_template/.git\n",
      "Has the repo been modified? True\n",
      "Repo is at commit: f871faccbac27e8d4cd701c2cc94bb5443147157\n",
      "Active branch is: pingraham/newFolderLayout\n"
     ]
    }
   ],
   "source": [
    "path_to_example_tool=pathlib.Path('.') \n",
    "repo = git.Repo(path_to_example_tool,search_parent_directories=True)\n",
    "print(f'Repo located at: {repo.common_dir}')\n",
    "print(f'Has the repo been modified? {repo.is_dirty()}')\n",
    "print(f'Repo is at commit: {repo.commit()}')\n",
    "print(f'Active branch is: {repo.active_branch}')"
   ]
  },
  {
   "cell_type": "markdown",
   "metadata": {},
   "source": [
    "## Load the configuration\n",
    "Configurations are be stored in external packages so everyone can access them. They can also be used by CI processes that can automatically generate new reports or values and perform analyses when changes to inputs are performed.<br>\n",
    "Configurations could be stored inside packages (which can be imported) or potentially as cloned repositories. <br>\n",
    "The case below uses a locally cloned repository"
   ]
  },
  {
   "cell_type": "code",
   "execution_count": 15,
   "metadata": {},
   "outputs": [],
   "source": [
    "path_to_config_repo = pathlib.Path(\"/Users/pingraham/repos/uasal/config_pearl/\")\n",
    "loader = ConfigLoader(path_to_config_repo,\"unitless\", recursive=True)\n",
    "config_pearl=loader.load_configs()"
   ]
  },
  {
   "cell_type": "code",
   "execution_count": 16,
   "metadata": {},
   "outputs": [
    {
     "name": "stdout",
     "output_type": "stream",
     "text": [
      "Repo located at: /Users/pingraham/repos/uasal/config_pearl/.git\n",
      "Has the repo been modified? False\n",
      "Repo is at commit: 385069287cf68d5ab2fbe9d5cff99bd3b70d56ca\n",
      "Active branch is: pingraham/toml_updates\n"
     ]
    }
   ],
   "source": [
    "repo = git.Repo(path_to_config_repo,search_parent_directories=True)\n",
    "print(f'Repo located at: {repo.common_dir}')\n",
    "print(f'Has the repo been modified? {repo.is_dirty()}')\n",
    "print(f'Repo is at commit: {repo.commit()}')\n",
    "print(f'Active branch is: {repo.active_branch}')"
   ]
  },
  {
   "cell_type": "markdown",
   "metadata": {},
   "source": [
    "## Begin Analysis"
   ]
  },
  {
   "cell_type": "markdown",
   "metadata": {},
   "source": [
    "In this case, we consider the example where we want to iterate over a configuration value and examine the result<br>\n",
    "In this example let's consider changing the slew speed and we'll run that through our analysis tool see how that affects how long to get to and acquire a target."
   ]
  },
  {
   "cell_type": "code",
   "execution_count": 17,
   "metadata": {},
   "outputs": [
    {
     "name": "stdout",
     "output_type": "stream",
     "text": [
      "The baseline slew speed is 0.44 degree/second\n"
     ]
    }
   ],
   "source": [
    "print(f'The baseline slew speed is {config_pearl[\"observatory\"][\"motion\"][\"slew_avg_speed\"]}')\n",
    "\n",
    "speeds = [0.1,0.2,0.5,0.6,0.8,1,2,4,6,10] # [Celsius]\n",
    "\n",
    "slew_distance = 50 # degrees\n"
   ]
  },
  {
   "cell_type": "markdown",
   "metadata": {},
   "source": [
    "Instantiate example tool class"
   ]
  },
  {
   "cell_type": "code",
   "execution_count": 18,
   "metadata": {},
   "outputs": [
    {
     "name": "stdout",
     "output_type": "stream",
     "text": [
      "Initialized\n"
     ]
    }
   ],
   "source": [
    "example_class=example_tool.exampleTool()"
   ]
  },
  {
   "cell_type": "markdown",
   "metadata": {},
   "source": [
    "Loop over the variable being iterated upon and modify the configuration locally"
   ]
  },
  {
   "cell_type": "code",
   "execution_count": 19,
   "metadata": {},
   "outputs": [
    {
     "name": "stdout",
     "output_type": "stream",
     "text": [
      "Running Simulation with speed of 0.1!\n",
      "Running Simulation with speed of 0.2!\n",
      "Running Simulation with speed of 0.5!\n",
      "Running Simulation with speed of 0.6!\n",
      "Running Simulation with speed of 0.8!\n",
      "Running Simulation with speed of 1!\n",
      "Running Simulation with speed of 2!\n",
      "Running Simulation with speed of 4!\n",
      "Running Simulation with speed of 6!\n",
      "Running Simulation with speed of 10!\n"
     ]
    }
   ],
   "source": [
    "results={'speed':[],'sim_results':[],'config':[]}\n",
    "for s in speeds:\n",
    "    config_pearl[\"observatory\"][\"motion\"][\"slew_avg_speed\"]=s\n",
    "    run_result = example_class.run_sim(slew_distance,config=config_pearl)\n",
    "    results['config'].append(config_pearl)\n",
    "    results['speed'].append(s)\n",
    "    results['sim_results'].append(run_result)"
   ]
  },
  {
   "cell_type": "markdown",
   "metadata": {},
   "source": [
    "## Perform some analysis\n",
    "For example, one could make a plot and look at the results"
   ]
  },
  {
   "cell_type": "code",
   "execution_count": 20,
   "metadata": {},
   "outputs": [
    {
     "data": {
      "text/plain": [
       "Text(0.5, 0, 'slew speed [deg/s]')"
      ]
     },
     "execution_count": 20,
     "metadata": {},
     "output_type": "execute_result"
    },
    {
     "data": {
      "image/png": "[encoded data removed]",
      "text/plain": [
       "<Figure size 640x480 with 1 Axes>"
      ]
     },
     "metadata": {},
     "output_type": "display_data"
    }
   ],
   "source": [
    "x=results['speed']\n",
    "y=results[\"sim_results\"]\n",
    "plt.plot(x,y,'x')\n",
    "plt.ylabel('time to target [s]')\n",
    "plt.xlabel('slew speed [deg/s]')"
   ]
  },
  {
   "cell_type": "markdown",
   "metadata": {},
   "source": [
    "## Report the take-home points in an obvious manner"
   ]
  },
  {
   "cell_type": "code",
   "execution_count": 21,
   "metadata": {},
   "outputs": [
    {
     "name": "stdout",
     "output_type": "stream",
     "text": [
      "The  acquisition overhead starts to dominate over slew speeds when the speed is ~1.5 degrees per second\n"
     ]
    }
   ],
   "source": [
    "print(f\"The  acquisition overhead starts to dominate over slew speeds when the speed is ~1.5 degrees per second\")"
   ]
  },
  {
   "cell_type": "code",
   "execution_count": null,
   "metadata": {},
   "outputs": [],
   "source": []
  }
 ],
 "metadata": {
  "kernelspec": {
   "display_name": "bending",
   "language": "python",
   "name": "python3"
  },
  "language_info": {
   "codemirror_mode": {
    "name": "ipython",
    "version": 3
   },
   "file_extension": ".py",
   "mimetype": "text/x-python",
   "name": "python",
   "nbconvert_exporter": "python",
   "pygments_lexer": "ipython3",
   "version": "3.12.7"
  }
 },
 "nbformat": 4,
 "nbformat_minor": 4
}
